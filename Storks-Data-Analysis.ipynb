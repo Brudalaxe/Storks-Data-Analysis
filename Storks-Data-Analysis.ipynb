{
 "cells": [
  {
   "cell_type": "markdown",
   "id": "3c5397ba-a372-4c6f-9e2c-0ac747d08617",
   "metadata": {},
   "source": [
    "# Storks data analysis\n",
    "\n",
    "by **Bradley Aldous**\n",
    "\n",
    "## Contents\n",
    "\n",
    " 1. [Preparing the dataset](#first)\n",
    "      \n",
    " 2. [Analysis 1: Explaining the variability of the number of births](#second)\n",
    "      1. [Implementing two regression models for the number of births](#2a)\n",
    "      1. [Using the bootstrap technique to estimate the distribution of the difference in the $R^2$ parameter](#2b)\n",
    "      1. [Conclusions](#2c)\n",
    "      \n",
    " 3. [Analysis 2: Predicting the number of storks](#third)\n",
    "      1. [Implementing two regression models for the number of storks](#3a)\n",
    "      1. [Using the bootstrap technique to estimate the difference in the root mean squared error (RMSE)](#3b)\n",
    "      1. [Conclusions](#3c)"
   ]
  },
  {
   "cell_type": "code",
   "execution_count": 1,
   "id": "d72a5abb-c210-47c9-b20c-165ab8e895e8",
   "metadata": {},
   "outputs": [],
   "source": [
    "import numpy as np\n",
    "import pandas as pd\n",
    "from sklearn.linear_model import LinearRegression\n",
    "import scipy.stats as stats\n",
    "from sklearn.utils import resample\n",
    "from sklearn import metrics\n",
    "import matplotlib.pyplot as plt"
   ]
  },
  {
   "cell_type": "markdown",
   "id": "ec1dd626-6a0c-4d74-86d0-d81447b6ef21",
   "metadata": {},
   "source": [
    "## Part 1 - Preparing the dataset <a class=\"anchor\" id=\"first\"></a>"
   ]
  },
  {
   "cell_type": "markdown",
   "id": "b81385f1-44de-411b-8049-47cdef27f6e1",
   "metadata": {},
   "source": [
    "The storks dataset is first read and stored in a pandas data frame called 'storks'."
   ]
  },
  {
   "cell_type": "code",
   "execution_count": 2,
   "id": "8ae8acf7-3253-450c-abce-b4703934f3a9",
   "metadata": {},
   "outputs": [
    {
     "data": {
      "text/html": [
       "<div>\n",
       "<style scoped>\n",
       "    .dataframe tbody tr th:only-of-type {\n",
       "        vertical-align: middle;\n",
       "    }\n",
       "\n",
       "    .dataframe tbody tr th {\n",
       "        vertical-align: top;\n",
       "    }\n",
       "\n",
       "    .dataframe thead th {\n",
       "        text-align: right;\n",
       "    }\n",
       "</style>\n",
       "<table border=\"1\" class=\"dataframe\">\n",
       "  <thead>\n",
       "    <tr style=\"text-align: right;\">\n",
       "      <th></th>\n",
       "      <th>Country</th>\n",
       "      <th>Area</th>\n",
       "      <th>Storks</th>\n",
       "      <th>Humans</th>\n",
       "      <th>BirthRate</th>\n",
       "      <th>SuitableAreaPercent</th>\n",
       "    </tr>\n",
       "  </thead>\n",
       "  <tbody>\n",
       "    <tr>\n",
       "      <th>0</th>\n",
       "      <td>Albania</td>\n",
       "      <td>28750</td>\n",
       "      <td>100</td>\n",
       "      <td>3.2</td>\n",
       "      <td>83</td>\n",
       "      <td>55.68</td>\n",
       "    </tr>\n",
       "    <tr>\n",
       "      <th>1</th>\n",
       "      <td>Austria</td>\n",
       "      <td>83860</td>\n",
       "      <td>300</td>\n",
       "      <td>7.6</td>\n",
       "      <td>87</td>\n",
       "      <td>38.34</td>\n",
       "    </tr>\n",
       "    <tr>\n",
       "      <th>2</th>\n",
       "      <td>Belgium</td>\n",
       "      <td>30520</td>\n",
       "      <td>1</td>\n",
       "      <td>9.9</td>\n",
       "      <td>118</td>\n",
       "      <td>65.93</td>\n",
       "    </tr>\n",
       "    <tr>\n",
       "      <th>3</th>\n",
       "      <td>Bulgaria</td>\n",
       "      <td>111000</td>\n",
       "      <td>5000</td>\n",
       "      <td>9.0</td>\n",
       "      <td>117</td>\n",
       "      <td>57.99</td>\n",
       "    </tr>\n",
       "    <tr>\n",
       "      <th>4</th>\n",
       "      <td>Denmark</td>\n",
       "      <td>43100</td>\n",
       "      <td>9</td>\n",
       "      <td>5.1</td>\n",
       "      <td>59</td>\n",
       "      <td>81.46</td>\n",
       "    </tr>\n",
       "    <tr>\n",
       "      <th>5</th>\n",
       "      <td>France</td>\n",
       "      <td>544000</td>\n",
       "      <td>140</td>\n",
       "      <td>56.0</td>\n",
       "      <td>774</td>\n",
       "      <td>58.47</td>\n",
       "    </tr>\n",
       "    <tr>\n",
       "      <th>6</th>\n",
       "      <td>Germany</td>\n",
       "      <td>357000</td>\n",
       "      <td>3300</td>\n",
       "      <td>78.0</td>\n",
       "      <td>901</td>\n",
       "      <td>59.81</td>\n",
       "    </tr>\n",
       "    <tr>\n",
       "      <th>7</th>\n",
       "      <td>Greece</td>\n",
       "      <td>132000</td>\n",
       "      <td>2500</td>\n",
       "      <td>10.0</td>\n",
       "      <td>106</td>\n",
       "      <td>47.31</td>\n",
       "    </tr>\n",
       "    <tr>\n",
       "      <th>8</th>\n",
       "      <td>Holland</td>\n",
       "      <td>41900</td>\n",
       "      <td>4</td>\n",
       "      <td>15.0</td>\n",
       "      <td>188</td>\n",
       "      <td>70.96</td>\n",
       "    </tr>\n",
       "    <tr>\n",
       "      <th>9</th>\n",
       "      <td>Hungary</td>\n",
       "      <td>93000</td>\n",
       "      <td>5000</td>\n",
       "      <td>11.0</td>\n",
       "      <td>124</td>\n",
       "      <td>75.86</td>\n",
       "    </tr>\n",
       "    <tr>\n",
       "      <th>10</th>\n",
       "      <td>Italy</td>\n",
       "      <td>301280</td>\n",
       "      <td>5</td>\n",
       "      <td>57.0</td>\n",
       "      <td>551</td>\n",
       "      <td>60.30</td>\n",
       "    </tr>\n",
       "    <tr>\n",
       "      <th>11</th>\n",
       "      <td>Poland</td>\n",
       "      <td>312680</td>\n",
       "      <td>30000</td>\n",
       "      <td>38.0</td>\n",
       "      <td>610</td>\n",
       "      <td>64.09</td>\n",
       "    </tr>\n",
       "    <tr>\n",
       "      <th>12</th>\n",
       "      <td>Portugal</td>\n",
       "      <td>92390</td>\n",
       "      <td>1500</td>\n",
       "      <td>10.0</td>\n",
       "      <td>120</td>\n",
       "      <td>52.51</td>\n",
       "    </tr>\n",
       "    <tr>\n",
       "      <th>13</th>\n",
       "      <td>Romania</td>\n",
       "      <td>237500</td>\n",
       "      <td>5000</td>\n",
       "      <td>23.0</td>\n",
       "      <td>367</td>\n",
       "      <td>62.49</td>\n",
       "    </tr>\n",
       "    <tr>\n",
       "      <th>14</th>\n",
       "      <td>Spain</td>\n",
       "      <td>504750</td>\n",
       "      <td>8000</td>\n",
       "      <td>39.0</td>\n",
       "      <td>439</td>\n",
       "      <td>59.57</td>\n",
       "    </tr>\n",
       "    <tr>\n",
       "      <th>15</th>\n",
       "      <td>Switzerland</td>\n",
       "      <td>41290</td>\n",
       "      <td>150</td>\n",
       "      <td>6.7</td>\n",
       "      <td>82</td>\n",
       "      <td>43.19</td>\n",
       "    </tr>\n",
       "    <tr>\n",
       "      <th>16</th>\n",
       "      <td>Turkey</td>\n",
       "      <td>779450</td>\n",
       "      <td>25000</td>\n",
       "      <td>56.0</td>\n",
       "      <td>1576</td>\n",
       "      <td>65.97</td>\n",
       "    </tr>\n",
       "  </tbody>\n",
       "</table>\n",
       "</div>"
      ],
      "text/plain": [
       "        Country    Area  Storks  Humans  BirthRate  SuitableAreaPercent\n",
       "0       Albania   28750     100     3.2         83                55.68\n",
       "1       Austria   83860     300     7.6         87                38.34\n",
       "2       Belgium   30520       1     9.9        118                65.93\n",
       "3      Bulgaria  111000    5000     9.0        117                57.99\n",
       "4       Denmark   43100       9     5.1         59                81.46\n",
       "5        France  544000     140    56.0        774                58.47\n",
       "6       Germany  357000    3300    78.0        901                59.81\n",
       "7        Greece  132000    2500    10.0        106                47.31\n",
       "8       Holland   41900       4    15.0        188                70.96\n",
       "9       Hungary   93000    5000    11.0        124                75.86\n",
       "10        Italy  301280       5    57.0        551                60.30\n",
       "11       Poland  312680   30000    38.0        610                64.09\n",
       "12     Portugal   92390    1500    10.0        120                52.51\n",
       "13      Romania  237500    5000    23.0        367                62.49\n",
       "14        Spain  504750    8000    39.0        439                59.57\n",
       "15  Switzerland   41290     150     6.7         82                43.19\n",
       "16       Turkey  779450   25000    56.0       1576                65.97"
      ]
     },
     "execution_count": 2,
     "metadata": {},
     "output_type": "execute_result"
    }
   ],
   "source": [
    "storks = pd.read_csv('storks.csv')\n",
    "storks"
   ]
  },
  {
   "cell_type": "markdown",
   "id": "f066559a-12a6-45e5-be65-13cf0619be9c",
   "metadata": {},
   "source": [
    "Some of the variables in this data have had their units scaled down, for the following analysis I've brought each variable back to its normal count. This allows easier comprehension of quantities derived in the analysis, which can then be scaled back down at the end if needed."
   ]
  },
  {
   "cell_type": "code",
   "execution_count": 3,
   "id": "e8f5c559-69af-4432-81fb-fa3f567b56d4",
   "metadata": {},
   "outputs": [
    {
     "data": {
      "text/html": [
       "<div>\n",
       "<style scoped>\n",
       "    .dataframe tbody tr th:only-of-type {\n",
       "        vertical-align: middle;\n",
       "    }\n",
       "\n",
       "    .dataframe tbody tr th {\n",
       "        vertical-align: top;\n",
       "    }\n",
       "\n",
       "    .dataframe thead th {\n",
       "        text-align: right;\n",
       "    }\n",
       "</style>\n",
       "<table border=\"1\" class=\"dataframe\">\n",
       "  <thead>\n",
       "    <tr style=\"text-align: right;\">\n",
       "      <th></th>\n",
       "      <th>Country</th>\n",
       "      <th>Area</th>\n",
       "      <th>Storks</th>\n",
       "      <th>Humans</th>\n",
       "      <th>BirthRate</th>\n",
       "      <th>SuitableAreaPercent</th>\n",
       "    </tr>\n",
       "  </thead>\n",
       "  <tbody>\n",
       "    <tr>\n",
       "      <th>0</th>\n",
       "      <td>Albania</td>\n",
       "      <td>28750</td>\n",
       "      <td>100</td>\n",
       "      <td>3200000.0</td>\n",
       "      <td>83000</td>\n",
       "      <td>55.68</td>\n",
       "    </tr>\n",
       "    <tr>\n",
       "      <th>1</th>\n",
       "      <td>Austria</td>\n",
       "      <td>83860</td>\n",
       "      <td>300</td>\n",
       "      <td>7600000.0</td>\n",
       "      <td>87000</td>\n",
       "      <td>38.34</td>\n",
       "    </tr>\n",
       "    <tr>\n",
       "      <th>2</th>\n",
       "      <td>Belgium</td>\n",
       "      <td>30520</td>\n",
       "      <td>1</td>\n",
       "      <td>9900000.0</td>\n",
       "      <td>118000</td>\n",
       "      <td>65.93</td>\n",
       "    </tr>\n",
       "    <tr>\n",
       "      <th>3</th>\n",
       "      <td>Bulgaria</td>\n",
       "      <td>111000</td>\n",
       "      <td>5000</td>\n",
       "      <td>9000000.0</td>\n",
       "      <td>117000</td>\n",
       "      <td>57.99</td>\n",
       "    </tr>\n",
       "    <tr>\n",
       "      <th>4</th>\n",
       "      <td>Denmark</td>\n",
       "      <td>43100</td>\n",
       "      <td>9</td>\n",
       "      <td>5100000.0</td>\n",
       "      <td>59000</td>\n",
       "      <td>81.46</td>\n",
       "    </tr>\n",
       "    <tr>\n",
       "      <th>5</th>\n",
       "      <td>France</td>\n",
       "      <td>544000</td>\n",
       "      <td>140</td>\n",
       "      <td>56000000.0</td>\n",
       "      <td>774000</td>\n",
       "      <td>58.47</td>\n",
       "    </tr>\n",
       "    <tr>\n",
       "      <th>6</th>\n",
       "      <td>Germany</td>\n",
       "      <td>357000</td>\n",
       "      <td>3300</td>\n",
       "      <td>78000000.0</td>\n",
       "      <td>901000</td>\n",
       "      <td>59.81</td>\n",
       "    </tr>\n",
       "    <tr>\n",
       "      <th>7</th>\n",
       "      <td>Greece</td>\n",
       "      <td>132000</td>\n",
       "      <td>2500</td>\n",
       "      <td>10000000.0</td>\n",
       "      <td>106000</td>\n",
       "      <td>47.31</td>\n",
       "    </tr>\n",
       "    <tr>\n",
       "      <th>8</th>\n",
       "      <td>Holland</td>\n",
       "      <td>41900</td>\n",
       "      <td>4</td>\n",
       "      <td>15000000.0</td>\n",
       "      <td>188000</td>\n",
       "      <td>70.96</td>\n",
       "    </tr>\n",
       "    <tr>\n",
       "      <th>9</th>\n",
       "      <td>Hungary</td>\n",
       "      <td>93000</td>\n",
       "      <td>5000</td>\n",
       "      <td>11000000.0</td>\n",
       "      <td>124000</td>\n",
       "      <td>75.86</td>\n",
       "    </tr>\n",
       "    <tr>\n",
       "      <th>10</th>\n",
       "      <td>Italy</td>\n",
       "      <td>301280</td>\n",
       "      <td>5</td>\n",
       "      <td>57000000.0</td>\n",
       "      <td>551000</td>\n",
       "      <td>60.30</td>\n",
       "    </tr>\n",
       "    <tr>\n",
       "      <th>11</th>\n",
       "      <td>Poland</td>\n",
       "      <td>312680</td>\n",
       "      <td>30000</td>\n",
       "      <td>38000000.0</td>\n",
       "      <td>610000</td>\n",
       "      <td>64.09</td>\n",
       "    </tr>\n",
       "    <tr>\n",
       "      <th>12</th>\n",
       "      <td>Portugal</td>\n",
       "      <td>92390</td>\n",
       "      <td>1500</td>\n",
       "      <td>10000000.0</td>\n",
       "      <td>120000</td>\n",
       "      <td>52.51</td>\n",
       "    </tr>\n",
       "    <tr>\n",
       "      <th>13</th>\n",
       "      <td>Romania</td>\n",
       "      <td>237500</td>\n",
       "      <td>5000</td>\n",
       "      <td>23000000.0</td>\n",
       "      <td>367000</td>\n",
       "      <td>62.49</td>\n",
       "    </tr>\n",
       "    <tr>\n",
       "      <th>14</th>\n",
       "      <td>Spain</td>\n",
       "      <td>504750</td>\n",
       "      <td>8000</td>\n",
       "      <td>39000000.0</td>\n",
       "      <td>439000</td>\n",
       "      <td>59.57</td>\n",
       "    </tr>\n",
       "    <tr>\n",
       "      <th>15</th>\n",
       "      <td>Switzerland</td>\n",
       "      <td>41290</td>\n",
       "      <td>150</td>\n",
       "      <td>6700000.0</td>\n",
       "      <td>82000</td>\n",
       "      <td>43.19</td>\n",
       "    </tr>\n",
       "    <tr>\n",
       "      <th>16</th>\n",
       "      <td>Turkey</td>\n",
       "      <td>779450</td>\n",
       "      <td>25000</td>\n",
       "      <td>56000000.0</td>\n",
       "      <td>1576000</td>\n",
       "      <td>65.97</td>\n",
       "    </tr>\n",
       "  </tbody>\n",
       "</table>\n",
       "</div>"
      ],
      "text/plain": [
       "        Country    Area  Storks      Humans  BirthRate  SuitableAreaPercent\n",
       "0       Albania   28750     100   3200000.0      83000                55.68\n",
       "1       Austria   83860     300   7600000.0      87000                38.34\n",
       "2       Belgium   30520       1   9900000.0     118000                65.93\n",
       "3      Bulgaria  111000    5000   9000000.0     117000                57.99\n",
       "4       Denmark   43100       9   5100000.0      59000                81.46\n",
       "5        France  544000     140  56000000.0     774000                58.47\n",
       "6       Germany  357000    3300  78000000.0     901000                59.81\n",
       "7        Greece  132000    2500  10000000.0     106000                47.31\n",
       "8       Holland   41900       4  15000000.0     188000                70.96\n",
       "9       Hungary   93000    5000  11000000.0     124000                75.86\n",
       "10        Italy  301280       5  57000000.0     551000                60.30\n",
       "11       Poland  312680   30000  38000000.0     610000                64.09\n",
       "12     Portugal   92390    1500  10000000.0     120000                52.51\n",
       "13      Romania  237500    5000  23000000.0     367000                62.49\n",
       "14        Spain  504750    8000  39000000.0     439000                59.57\n",
       "15  Switzerland   41290     150   6700000.0      82000                43.19\n",
       "16       Turkey  779450   25000  56000000.0    1576000                65.97"
      ]
     },
     "execution_count": 3,
     "metadata": {},
     "output_type": "execute_result"
    }
   ],
   "source": [
    "storks['Humans'] = storks['Humans'] * (10**6)\n",
    "storks['BirthRate'] = storks['BirthRate'] * (10**3)\n",
    "storks"
   ]
  },
  {
   "cell_type": "markdown",
   "id": "b9b335b9-7fd0-4c72-8997-5f90cbda4e2f",
   "metadata": {},
   "source": [
    "## Part 2 - Analysis 1: Explaining the variability of the number of births <a class=\"anchor\" id=\"second\"></a>"
   ]
  },
  {
   "cell_type": "markdown",
   "id": "3c07a2ce-15d7-48a7-893a-21af06108b1f",
   "metadata": {},
   "source": [
    "In this section, we implement two regression models to explain the variability in the number of births. The two models both use a single predictor, the first model takes the number of stork pairs ('Storks') as a predictor, whilst the second model uses the human population size ('Humans') as its predictor. We then perform a bootstrap to resample the data and fit the models 500 times to allow us to plot a distribution of the difference in $R^2$ between the two models."
   ]
  },
  {
   "cell_type": "code",
   "execution_count": 4,
   "id": "066e8a39-d511-4093-9071-fb11496cdb54",
   "metadata": {},
   "outputs": [],
   "source": [
    "#fig, (a1,a2) = plt.subplots(2, 1, figsize=(10,20))\n",
    "#storks.hist('Storks', bins=20, ax=a1)\n",
    "#storks.hist('Humans', bins=20, ax=a2)"
   ]
  },
  {
   "cell_type": "markdown",
   "id": "ad24f755-cb68-4d87-9c01-ed5c62fb4406",
   "metadata": {},
   "source": [
    "### A. Implementing two regression models for the number of births <a class=\"anchor\" id=\"2a\"></a>"
   ]
  },
  {
   "cell_type": "markdown",
   "id": "7babbb90-3858-4686-a8da-907e629c407e",
   "metadata": {},
   "source": [
    "In the regression below, our y-value is taken as 'BirthRate' and our x-value (predictor) is taken as 'Storks'. A regression is then implemented, giving us the values for the Storks regression coefficient, the intercept, and the coefficient of determination ($R^2$)."
   ]
  },
  {
   "cell_type": "code",
   "execution_count": 5,
   "id": "dce7e661-2435-48ab-9bb6-f36a327d60a7",
   "metadata": {},
   "outputs": [
    {
     "name": "stdout",
     "output_type": "stream",
     "text": [
      "The R2 coefficient of determination is 0.385\n",
      "The intercept is 225028.7\n",
      "Estimated regression coefficient for Storks is 28.79 change of max heart rate (beats / min) per year\n"
     ]
    }
   ],
   "source": [
    "y = storks.BirthRate\n",
    "x1 = np.array(storks.Storks).reshape((-1,1))\n",
    "\n",
    "reg1 = LinearRegression().fit(x1, y)\n",
    "print('The R2 coefficient of determination is %4.3f' % reg1.score(x1, y))\n",
    "print('The intercept is %4.1f' % reg1.intercept_)\n",
    "print('Estimated regression coefficient for Storks is %4.2f' % reg1.coef_, \n",
    "      'change of max heart rate (beats / min) per year')"
   ]
  },
  {
   "cell_type": "markdown",
   "id": "4322b0a5-7486-4f21-9b05-6ba11b53d4ef",
   "metadata": {},
   "source": [
    "The above value for $R^2$ seems to indicate that there is a correlation between 'Storks' and 'BirthRate', though not a particularly strong one (at 38.5% accuracy). We can produce a scatter plot to help visualise the relationship."
   ]
  },
  {
   "cell_type": "code",
   "execution_count": 6,
   "id": "5a7da2ab-4ea7-477a-a545-c0893951a681",
   "metadata": {},
   "outputs": [
    {
     "data": {
      "text/plain": [
       "[<matplotlib.lines.Line2D at 0x21df59cdfa0>]"
      ]
     },
     "execution_count": 6,
     "metadata": {},
     "output_type": "execute_result"
    },
    {
     "data": {
      "image/png": "[encoded data removed]",
      "text/plain": [
       "<Figure size 720x720 with 1 Axes>"
      ]
     },
     "metadata": {
      "needs_background": "light"
     },
     "output_type": "display_data"
    }
   ],
   "source": [
    "storks.plot(kind='scatter',  x='Storks', y='BirthRate', figsize=(10,10))\n",
    "plt.plot(x1, reg1.intercept_ + reg1.coef_ * x1, c='r')"
   ]
  },
  {
   "cell_type": "markdown",
   "id": "1b930def-1cd2-42e8-8632-43d9e6fecf54",
   "metadata": {},
   "source": [
    "Our second regression model takes the same y-value ('BirthRate'), but takes 'Humans' as its x-value (predictor). A regression is then implemented, giving us the values for the Storks regression coefficient, the intercept, and the coefficient of determination."
   ]
  },
  {
   "cell_type": "code",
   "execution_count": 7,
   "id": "03b0d295-70b5-46f8-a793-33894f459fe2",
   "metadata": {},
   "outputs": [
    {
     "name": "stdout",
     "output_type": "stream",
     "text": [
      "The R2 coefficient of determination is 0.725\n",
      "The intercept is -8445.1\n",
      "Estimated regression coefficient for Humans is 0.01 change of max heart rate (beats / min) per year\n"
     ]
    }
   ],
   "source": [
    "x2 = np.array(storks.Humans).reshape((-1,1))\n",
    "\n",
    "reg2 = LinearRegression().fit(x2, y)\n",
    "print('The R2 coefficient of determination is %4.3f' % reg2.score(x2, y))\n",
    "print('The intercept is %4.1f' % reg2.intercept_)\n",
    "print('Estimated regression coefficient for Humans is %4.2f' % reg2.coef_, \n",
    "      'change of max heart rate (beats / min) per year')"
   ]
  },
  {
   "cell_type": "markdown",
   "id": "876fc6df-0b06-42ae-bc93-9fa8760538c0",
   "metadata": {},
   "source": [
    "Here we can see that the coefficient of determination takes a value closer to 1, indicating that this model predicts the number of births to a higher degree of accuracy compared to the first (72.5% compared to 38.5%). We can again produce a scatter plot to help visualise the relationsship."
   ]
  },
  {
   "cell_type": "code",
   "execution_count": 8,
   "id": "b1a7db70-43eb-42e3-a16e-08b34e3e92b2",
   "metadata": {},
   "outputs": [
    {
     "data": {
      "text/plain": [
       "[<matplotlib.lines.Line2D at 0x21df86e9df0>]"
      ]
     },
     "execution_count": 8,
     "metadata": {},
     "output_type": "execute_result"
    },
    {
     "data": {
      "image/png": "[encoded data removed]",
      "text/plain": [
       "<Figure size 720x720 with 1 Axes>"
      ]
     },
     "metadata": {
      "needs_background": "light"
     },
     "output_type": "display_data"
    }
   ],
   "source": [
    "storks.plot(kind='scatter',  x='Humans', y='BirthRate', figsize=(10,10))\n",
    "plt.plot(x2, reg2.intercept_ + reg2.coef_ * x2, c='r')"
   ]
  },
  {
   "cell_type": "markdown",
   "id": "0ceab2ff-5bfa-4b12-8e55-034092709c33",
   "metadata": {},
   "source": [
    "Here, we can see that the regression line fits the data far better than in the first model, leading me to believe that the second model is superior to the first in explaining the variability in the number of births."
   ]
  },
  {
   "cell_type": "markdown",
   "id": "fa982746-bb4c-4207-bb11-169841311e25",
   "metadata": {},
   "source": [
    "### B. Using the bootstrap technique to estimate the distribution of the difference in the $R^2$ parameter <a class=\"anchor\" id=\"2b\"></a>"
   ]
  },
  {
   "cell_type": "markdown",
   "id": "b7056568-fd87-4f38-bf38-03a07da8571b",
   "metadata": {},
   "source": [
    "Here, we implement the bootstrap technique to resample our data and fit the regression model 500 times."
   ]
  },
  {
   "cell_type": "code",
   "execution_count": 9,
   "id": "afc29222-00b4-4524-b7f7-edad30dda502",
   "metadata": {},
   "outputs": [],
   "source": [
    "def bootstrapC(data, cols, repeats, func):\n",
    "    result = pd.DataFrame(data = dict([(c, np.empty(repeats)) for c in cols]))\n",
    "    \n",
    "    for i in range(0, repeats):\n",
    "        result.iloc[i] = func(resample(data))\n",
    "    return result"
   ]
  },
  {
   "cell_type": "code",
   "execution_count": 10,
   "id": "d0d9d911-af9c-4aba-a056-2d122ba17685",
   "metadata": {},
   "outputs": [],
   "source": [
    "def doRegressions1(df) :\n",
    "    y = df.BirthRate\n",
    "    x1 = np.array(df.Storks).reshape((-1,1))\n",
    "    x2 = np.array(df.Humans).reshape((-1,1))\n",
    "    reg1 = LinearRegression().fit(x1, y)\n",
    "    reg2 = LinearRegression().fit(x2, y)\n",
    "    return [reg1.intercept_, reg1.coef_[0], reg1.score(x1, y), reg2.intercept_, reg2.coef_[0], reg2.score(x2, y), reg1.score(x1, y) - reg2.score(x2, y)]"
   ]
  },
  {
   "cell_type": "code",
   "execution_count": 11,
   "id": "ea8b65ed-93f6-47ff-b8f0-98f55063a56a",
   "metadata": {},
   "outputs": [
    {
     "data": {
      "image/png": "[encoded data removed]",
      "text/plain": [
       "<Figure size 720x720 with 9 Axes>"
      ]
     },
     "metadata": {
      "needs_background": "light"
     },
     "output_type": "display_data"
    }
   ],
   "source": [
    "bstrap1 = bootstrapC(storks, ['StorksIntercept', 'StorksBeta', 'StorksR2', 'HumansIntercept', 'HumansBeta', 'HumansR2', 'R2Difference'], 500, doRegressions1) \n",
    "_ = bstrap1.hist(figsize=(10,10))"
   ]
  },
  {
   "cell_type": "code",
   "execution_count": 12,
   "id": "d2f88609-8685-4f2c-8b2a-a4b4ae4d57dc",
   "metadata": {},
   "outputs": [
    {
     "data": {
      "text/html": [
       "<div>\n",
       "<style scoped>\n",
       "    .dataframe tbody tr th:only-of-type {\n",
       "        vertical-align: middle;\n",
       "    }\n",
       "\n",
       "    .dataframe tbody tr th {\n",
       "        vertical-align: top;\n",
       "    }\n",
       "\n",
       "    .dataframe thead th {\n",
       "        text-align: right;\n",
       "    }\n",
       "</style>\n",
       "<table border=\"1\" class=\"dataframe\">\n",
       "  <thead>\n",
       "    <tr style=\"text-align: right;\">\n",
       "      <th></th>\n",
       "      <th>StorksIntercept</th>\n",
       "      <th>StorksBeta</th>\n",
       "      <th>StorksR2</th>\n",
       "      <th>HumansIntercept</th>\n",
       "      <th>HumansBeta</th>\n",
       "      <th>HumansR2</th>\n",
       "      <th>R2Difference</th>\n",
       "    </tr>\n",
       "  </thead>\n",
       "  <tbody>\n",
       "    <tr>\n",
       "      <th>0</th>\n",
       "      <td>266643.325242</td>\n",
       "      <td>11.166713</td>\n",
       "      <td>0.112767</td>\n",
       "      <td>21794.681678</td>\n",
       "      <td>0.011771</td>\n",
       "      <td>0.951825</td>\n",
       "      <td>-0.839059</td>\n",
       "    </tr>\n",
       "    <tr>\n",
       "      <th>1</th>\n",
       "      <td>358023.725139</td>\n",
       "      <td>17.753234</td>\n",
       "      <td>0.237630</td>\n",
       "      <td>19583.506253</td>\n",
       "      <td>0.013674</td>\n",
       "      <td>0.670513</td>\n",
       "      <td>-0.432883</td>\n",
       "    </tr>\n",
       "    <tr>\n",
       "      <th>2</th>\n",
       "      <td>124194.899107</td>\n",
       "      <td>37.139228</td>\n",
       "      <td>0.585912</td>\n",
       "      <td>-76774.802366</td>\n",
       "      <td>0.021937</td>\n",
       "      <td>0.786483</td>\n",
       "      <td>-0.200570</td>\n",
       "    </tr>\n",
       "    <tr>\n",
       "      <th>3</th>\n",
       "      <td>154422.743513</td>\n",
       "      <td>53.550546</td>\n",
       "      <td>0.691394</td>\n",
       "      <td>-42861.223415</td>\n",
       "      <td>0.017708</td>\n",
       "      <td>0.712836</td>\n",
       "      <td>-0.021442</td>\n",
       "    </tr>\n",
       "    <tr>\n",
       "      <th>4</th>\n",
       "      <td>80487.164997</td>\n",
       "      <td>55.772619</td>\n",
       "      <td>0.812085</td>\n",
       "      <td>-108459.189799</td>\n",
       "      <td>0.023592</td>\n",
       "      <td>0.838345</td>\n",
       "      <td>-0.026260</td>\n",
       "    </tr>\n",
       "    <tr>\n",
       "      <th>...</th>\n",
       "      <td>...</td>\n",
       "      <td>...</td>\n",
       "      <td>...</td>\n",
       "      <td>...</td>\n",
       "      <td>...</td>\n",
       "      <td>...</td>\n",
       "      <td>...</td>\n",
       "    </tr>\n",
       "    <tr>\n",
       "      <th>495</th>\n",
       "      <td>88691.092202</td>\n",
       "      <td>53.061270</td>\n",
       "      <td>0.805386</td>\n",
       "      <td>-42602.980455</td>\n",
       "      <td>0.017947</td>\n",
       "      <td>0.710634</td>\n",
       "      <td>0.094752</td>\n",
       "    </tr>\n",
       "    <tr>\n",
       "      <th>496</th>\n",
       "      <td>161841.171882</td>\n",
       "      <td>31.538358</td>\n",
       "      <td>0.552128</td>\n",
       "      <td>-104371.688613</td>\n",
       "      <td>0.023546</td>\n",
       "      <td>0.858250</td>\n",
       "      <td>-0.306122</td>\n",
       "    </tr>\n",
       "    <tr>\n",
       "      <th>497</th>\n",
       "      <td>216089.654595</td>\n",
       "      <td>26.012383</td>\n",
       "      <td>0.432985</td>\n",
       "      <td>-35558.481285</td>\n",
       "      <td>0.017955</td>\n",
       "      <td>0.695313</td>\n",
       "      <td>-0.262328</td>\n",
       "    </tr>\n",
       "    <tr>\n",
       "      <th>498</th>\n",
       "      <td>226273.806180</td>\n",
       "      <td>41.954753</td>\n",
       "      <td>0.108922</td>\n",
       "      <td>9470.952015</td>\n",
       "      <td>0.011518</td>\n",
       "      <td>0.974745</td>\n",
       "      <td>-0.865823</td>\n",
       "    </tr>\n",
       "    <tr>\n",
       "      <th>499</th>\n",
       "      <td>90813.443374</td>\n",
       "      <td>54.843107</td>\n",
       "      <td>0.821638</td>\n",
       "      <td>-42218.613812</td>\n",
       "      <td>0.019051</td>\n",
       "      <td>0.732374</td>\n",
       "      <td>0.089265</td>\n",
       "    </tr>\n",
       "  </tbody>\n",
       "</table>\n",
       "<p>500 rows × 7 columns</p>\n",
       "</div>"
      ],
      "text/plain": [
       "     StorksIntercept  StorksBeta  StorksR2  HumansIntercept  HumansBeta  \\\n",
       "0      266643.325242   11.166713  0.112767     21794.681678    0.011771   \n",
       "1      358023.725139   17.753234  0.237630     19583.506253    0.013674   \n",
       "2      124194.899107   37.139228  0.585912    -76774.802366    0.021937   \n",
       "3      154422.743513   53.550546  0.691394    -42861.223415    0.017708   \n",
       "4       80487.164997   55.772619  0.812085   -108459.189799    0.023592   \n",
       "..               ...         ...       ...              ...         ...   \n",
       "495     88691.092202   53.061270  0.805386    -42602.980455    0.017947   \n",
       "496    161841.171882   31.538358  0.552128   -104371.688613    0.023546   \n",
       "497    216089.654595   26.012383  0.432985    -35558.481285    0.017955   \n",
       "498    226273.806180   41.954753  0.108922      9470.952015    0.011518   \n",
       "499     90813.443374   54.843107  0.821638    -42218.613812    0.019051   \n",
       "\n",
       "     HumansR2  R2Difference  \n",
       "0    0.951825     -0.839059  \n",
       "1    0.670513     -0.432883  \n",
       "2    0.786483     -0.200570  \n",
       "3    0.712836     -0.021442  \n",
       "4    0.838345     -0.026260  \n",
       "..        ...           ...  \n",
       "495  0.710634      0.094752  \n",
       "496  0.858250     -0.306122  \n",
       "497  0.695313     -0.262328  \n",
       "498  0.974745     -0.865823  \n",
       "499  0.732374      0.089265  \n",
       "\n",
       "[500 rows x 7 columns]"
      ]
     },
     "execution_count": 12,
     "metadata": {},
     "output_type": "execute_result"
    }
   ],
   "source": [
    "bstrap1"
   ]
  },
  {
   "cell_type": "code",
   "execution_count": 13,
   "id": "ca207dc2-afbc-4ae9-8e98-873f2de7fbeb",
   "metadata": {},
   "outputs": [
    {
     "data": {
      "text/plain": [
       "<matplotlib.lines.Line2D at 0x21df8895e20>"
      ]
     },
     "execution_count": 13,
     "metadata": {},
     "output_type": "execute_result"
    },
    {
     "data": {
      "image/png": "[encoded data removed]",
      "text/plain": [
       "<Figure size 720x720 with 1 Axes>"
      ]
     },
     "metadata": {
      "needs_background": "light"
     },
     "output_type": "display_data"
    }
   ],
   "source": [
    "bstrap1.hist('R2Difference', bins=20, figsize=(10,10))\n",
    "plt.axvline(bstrap1.R2Difference.quantile(0.05), color='r', linestyle='dashed', linewidth=2)\n",
    "plt.axvline(bstrap1.R2Difference.quantile(0.95), color='r', linestyle='dashed', linewidth=2)"
   ]
  },
  {
   "cell_type": "code",
   "execution_count": 14,
   "id": "0949b66d-2166-4cca-ae89-b695115599f3",
   "metadata": {},
   "outputs": [
    {
     "data": {
      "text/plain": [
       "<matplotlib.lines.Line2D at 0x21df8834970>"
      ]
     },
     "execution_count": 14,
     "metadata": {},
     "output_type": "execute_result"
    },
    {
     "data": {
      "image/png": "[encoded data removed]",
      "text/plain": [
       "<Figure size 720x720 with 1 Axes>"
      ]
     },
     "metadata": {
      "needs_background": "light"
     },
     "output_type": "display_data"
    }
   ],
   "source": [
    "bstrap1.hist('R2Difference', bins=20, figsize=(10,10))\n",
    "plt.axvline(bstrap1.R2Difference.quantile(0.1), color='r', linestyle='dashed', linewidth=2)\n",
    "plt.axvline(bstrap1.R2Difference.quantile(0.9), color='r', linestyle='dashed', linewidth=2)"
   ]
  },
  {
   "cell_type": "code",
   "execution_count": 15,
   "id": "650bfc6b-a757-4e99-a588-84a46151f0d0",
   "metadata": {},
   "outputs": [
    {
     "name": "stdout",
     "output_type": "stream",
     "text": [
      "The R2 difference is -0.34, with 90% CI from -0.94 to 0.09\n",
      "The R2 difference is -0.34, with 80% CI from -0.91 to 0.02\n"
     ]
    }
   ],
   "source": [
    "intercept_storks, beta_storks, r2_storks, intercept_humans, beta_humans, r2_humans, r2difference = doRegressions1(storks)\n",
    "\n",
    "print(\"The R2 difference is %3.2f, with 90%% CI from %3.2f to %3.2f\" % \n",
    "      (r2difference, bstrap1.R2Difference.quantile(0.05), bstrap1.R2Difference.quantile(0.95)))\n",
    "print(\"The R2 difference is %3.2f, with 80%% CI from %3.2f to %3.2f\" % \n",
    "      (r2difference, bstrap1.R2Difference.quantile(0.1), bstrap1.R2Difference.quantile(0.9)))"
   ]
  },
  {
   "cell_type": "markdown",
   "id": "74d12ce9-27d6-43c1-93c7-ad79b617bd94",
   "metadata": {},
   "source": [
    "### C. Conclusions <a class=\"anchor\" id=\"2c\"></a>"
   ]
  },
  {
   "cell_type": "markdown",
   "id": "e9a26c60-4ed7-4a8b-a35b-3a0cba2248cf",
   "metadata": {},
   "source": [
    "From the above it can be seen that the first confidence interval (90%) has the zero line inside it, meaning we can't be completely confident that that one model explains the difference better than the other. Though it appears that the second model (with 'Humans' as predictor) is a more accurate model in most instances.\n",
    "\n",
    "However, if we alter the confidence interval (to 80%), we can see that this confidence interval doesn't cross the zero line, and so we can be confident that the second model explains more of the variability in the number of births at this confidence."
   ]
  },
  {
   "cell_type": "markdown",
   "id": "b46b9e53-5b32-42d8-8513-f79c5be5344a",
   "metadata": {},
   "source": [
    "## Part 3 - Analysis 2: Predicting the number of storks <a class=\"anchor\" id=\"third\"></a>"
   ]
  },
  {
   "cell_type": "markdown",
   "id": "004a2d93-2973-417d-b7d5-2aedef43db06",
   "metadata": {},
   "source": [
    "In this section, we are looking at two different regression models and analysing their performance in predicting the number of stork pairs. In our first model, we are using land area as the predictor, and in the second; population density and area of suitable land. These last two variables aren't included in the dataset, however we can derive them from some of the variables present. Population density can be found by simply dividing the population ('Humans'), by 'Area'. Suitable land area can be found by multiplying 'Area' by 'SuitableAreaPercent' (once scaled down by two orders of magnitude, as this variable is stored in the data as a percentage, not a decimal value). We then perform a bootstrap to resample the data and fit the models 500 times to allow us to plot a distribution of the difference in RMSEs between the two models."
   ]
  },
  {
   "cell_type": "code",
   "execution_count": 16,
   "id": "362b68d2-619f-4c4a-bdad-5de4113c6c38",
   "metadata": {},
   "outputs": [
    {
     "data": {
      "text/html": [
       "<div>\n",
       "<style scoped>\n",
       "    .dataframe tbody tr th:only-of-type {\n",
       "        vertical-align: middle;\n",
       "    }\n",
       "\n",
       "    .dataframe tbody tr th {\n",
       "        vertical-align: top;\n",
       "    }\n",
       "\n",
       "    .dataframe thead th {\n",
       "        text-align: right;\n",
       "    }\n",
       "</style>\n",
       "<table border=\"1\" class=\"dataframe\">\n",
       "  <thead>\n",
       "    <tr style=\"text-align: right;\">\n",
       "      <th></th>\n",
       "      <th>Country</th>\n",
       "      <th>Area</th>\n",
       "      <th>Storks</th>\n",
       "      <th>Humans</th>\n",
       "      <th>BirthRate</th>\n",
       "      <th>SuitableAreaPercent</th>\n",
       "      <th>PopulationDensity</th>\n",
       "      <th>SuitableArea</th>\n",
       "    </tr>\n",
       "  </thead>\n",
       "  <tbody>\n",
       "    <tr>\n",
       "      <th>0</th>\n",
       "      <td>Albania</td>\n",
       "      <td>28750</td>\n",
       "      <td>100</td>\n",
       "      <td>3200000.0</td>\n",
       "      <td>83000</td>\n",
       "      <td>55.68</td>\n",
       "      <td>111.304348</td>\n",
       "      <td>16008.000</td>\n",
       "    </tr>\n",
       "    <tr>\n",
       "      <th>1</th>\n",
       "      <td>Austria</td>\n",
       "      <td>83860</td>\n",
       "      <td>300</td>\n",
       "      <td>7600000.0</td>\n",
       "      <td>87000</td>\n",
       "      <td>38.34</td>\n",
       "      <td>90.627236</td>\n",
       "      <td>32151.924</td>\n",
       "    </tr>\n",
       "    <tr>\n",
       "      <th>2</th>\n",
       "      <td>Belgium</td>\n",
       "      <td>30520</td>\n",
       "      <td>1</td>\n",
       "      <td>9900000.0</td>\n",
       "      <td>118000</td>\n",
       "      <td>65.93</td>\n",
       "      <td>324.377457</td>\n",
       "      <td>20121.836</td>\n",
       "    </tr>\n",
       "    <tr>\n",
       "      <th>3</th>\n",
       "      <td>Bulgaria</td>\n",
       "      <td>111000</td>\n",
       "      <td>5000</td>\n",
       "      <td>9000000.0</td>\n",
       "      <td>117000</td>\n",
       "      <td>57.99</td>\n",
       "      <td>81.081081</td>\n",
       "      <td>64368.900</td>\n",
       "    </tr>\n",
       "    <tr>\n",
       "      <th>4</th>\n",
       "      <td>Denmark</td>\n",
       "      <td>43100</td>\n",
       "      <td>9</td>\n",
       "      <td>5100000.0</td>\n",
       "      <td>59000</td>\n",
       "      <td>81.46</td>\n",
       "      <td>118.329466</td>\n",
       "      <td>35109.260</td>\n",
       "    </tr>\n",
       "    <tr>\n",
       "      <th>5</th>\n",
       "      <td>France</td>\n",
       "      <td>544000</td>\n",
       "      <td>140</td>\n",
       "      <td>56000000.0</td>\n",
       "      <td>774000</td>\n",
       "      <td>58.47</td>\n",
       "      <td>102.941176</td>\n",
       "      <td>318076.800</td>\n",
       "    </tr>\n",
       "    <tr>\n",
       "      <th>6</th>\n",
       "      <td>Germany</td>\n",
       "      <td>357000</td>\n",
       "      <td>3300</td>\n",
       "      <td>78000000.0</td>\n",
       "      <td>901000</td>\n",
       "      <td>59.81</td>\n",
       "      <td>218.487395</td>\n",
       "      <td>213521.700</td>\n",
       "    </tr>\n",
       "    <tr>\n",
       "      <th>7</th>\n",
       "      <td>Greece</td>\n",
       "      <td>132000</td>\n",
       "      <td>2500</td>\n",
       "      <td>10000000.0</td>\n",
       "      <td>106000</td>\n",
       "      <td>47.31</td>\n",
       "      <td>75.757576</td>\n",
       "      <td>62449.200</td>\n",
       "    </tr>\n",
       "    <tr>\n",
       "      <th>8</th>\n",
       "      <td>Holland</td>\n",
       "      <td>41900</td>\n",
       "      <td>4</td>\n",
       "      <td>15000000.0</td>\n",
       "      <td>188000</td>\n",
       "      <td>70.96</td>\n",
       "      <td>357.995227</td>\n",
       "      <td>29732.240</td>\n",
       "    </tr>\n",
       "    <tr>\n",
       "      <th>9</th>\n",
       "      <td>Hungary</td>\n",
       "      <td>93000</td>\n",
       "      <td>5000</td>\n",
       "      <td>11000000.0</td>\n",
       "      <td>124000</td>\n",
       "      <td>75.86</td>\n",
       "      <td>118.279570</td>\n",
       "      <td>70549.800</td>\n",
       "    </tr>\n",
       "    <tr>\n",
       "      <th>10</th>\n",
       "      <td>Italy</td>\n",
       "      <td>301280</td>\n",
       "      <td>5</td>\n",
       "      <td>57000000.0</td>\n",
       "      <td>551000</td>\n",
       "      <td>60.30</td>\n",
       "      <td>189.192777</td>\n",
       "      <td>181671.840</td>\n",
       "    </tr>\n",
       "    <tr>\n",
       "      <th>11</th>\n",
       "      <td>Poland</td>\n",
       "      <td>312680</td>\n",
       "      <td>30000</td>\n",
       "      <td>38000000.0</td>\n",
       "      <td>610000</td>\n",
       "      <td>64.09</td>\n",
       "      <td>121.529999</td>\n",
       "      <td>200396.612</td>\n",
       "    </tr>\n",
       "    <tr>\n",
       "      <th>12</th>\n",
       "      <td>Portugal</td>\n",
       "      <td>92390</td>\n",
       "      <td>1500</td>\n",
       "      <td>10000000.0</td>\n",
       "      <td>120000</td>\n",
       "      <td>52.51</td>\n",
       "      <td>108.236822</td>\n",
       "      <td>48513.989</td>\n",
       "    </tr>\n",
       "    <tr>\n",
       "      <th>13</th>\n",
       "      <td>Romania</td>\n",
       "      <td>237500</td>\n",
       "      <td>5000</td>\n",
       "      <td>23000000.0</td>\n",
       "      <td>367000</td>\n",
       "      <td>62.49</td>\n",
       "      <td>96.842105</td>\n",
       "      <td>148413.750</td>\n",
       "    </tr>\n",
       "    <tr>\n",
       "      <th>14</th>\n",
       "      <td>Spain</td>\n",
       "      <td>504750</td>\n",
       "      <td>8000</td>\n",
       "      <td>39000000.0</td>\n",
       "      <td>439000</td>\n",
       "      <td>59.57</td>\n",
       "      <td>77.265973</td>\n",
       "      <td>300679.575</td>\n",
       "    </tr>\n",
       "    <tr>\n",
       "      <th>15</th>\n",
       "      <td>Switzerland</td>\n",
       "      <td>41290</td>\n",
       "      <td>150</td>\n",
       "      <td>6700000.0</td>\n",
       "      <td>82000</td>\n",
       "      <td>43.19</td>\n",
       "      <td>162.266893</td>\n",
       "      <td>17833.151</td>\n",
       "    </tr>\n",
       "    <tr>\n",
       "      <th>16</th>\n",
       "      <td>Turkey</td>\n",
       "      <td>779450</td>\n",
       "      <td>25000</td>\n",
       "      <td>56000000.0</td>\n",
       "      <td>1576000</td>\n",
       "      <td>65.97</td>\n",
       "      <td>71.845532</td>\n",
       "      <td>514203.165</td>\n",
       "    </tr>\n",
       "  </tbody>\n",
       "</table>\n",
       "</div>"
      ],
      "text/plain": [
       "        Country    Area  Storks      Humans  BirthRate  SuitableAreaPercent  \\\n",
       "0       Albania   28750     100   3200000.0      83000                55.68   \n",
       "1       Austria   83860     300   7600000.0      87000                38.34   \n",
       "2       Belgium   30520       1   9900000.0     118000                65.93   \n",
       "3      Bulgaria  111000    5000   9000000.0     117000                57.99   \n",
       "4       Denmark   43100       9   5100000.0      59000                81.46   \n",
       "5        France  544000     140  56000000.0     774000                58.47   \n",
       "6       Germany  357000    3300  78000000.0     901000                59.81   \n",
       "7        Greece  132000    2500  10000000.0     106000                47.31   \n",
       "8       Holland   41900       4  15000000.0     188000                70.96   \n",
       "9       Hungary   93000    5000  11000000.0     124000                75.86   \n",
       "10        Italy  301280       5  57000000.0     551000                60.30   \n",
       "11       Poland  312680   30000  38000000.0     610000                64.09   \n",
       "12     Portugal   92390    1500  10000000.0     120000                52.51   \n",
       "13      Romania  237500    5000  23000000.0     367000                62.49   \n",
       "14        Spain  504750    8000  39000000.0     439000                59.57   \n",
       "15  Switzerland   41290     150   6700000.0      82000                43.19   \n",
       "16       Turkey  779450   25000  56000000.0    1576000                65.97   \n",
       "\n",
       "    PopulationDensity  SuitableArea  \n",
       "0          111.304348     16008.000  \n",
       "1           90.627236     32151.924  \n",
       "2          324.377457     20121.836  \n",
       "3           81.081081     64368.900  \n",
       "4          118.329466     35109.260  \n",
       "5          102.941176    318076.800  \n",
       "6          218.487395    213521.700  \n",
       "7           75.757576     62449.200  \n",
       "8          357.995227     29732.240  \n",
       "9          118.279570     70549.800  \n",
       "10         189.192777    181671.840  \n",
       "11         121.529999    200396.612  \n",
       "12         108.236822     48513.989  \n",
       "13          96.842105    148413.750  \n",
       "14          77.265973    300679.575  \n",
       "15         162.266893     17833.151  \n",
       "16          71.845532    514203.165  "
      ]
     },
     "execution_count": 16,
     "metadata": {},
     "output_type": "execute_result"
    }
   ],
   "source": [
    "storks['PopulationDensity'] = storks['Humans'] / storks['Area']\n",
    "storks['SuitableArea'] = (storks['SuitableAreaPercent'] / 100) * storks['Area']\n",
    "storks"
   ]
  },
  {
   "cell_type": "markdown",
   "id": "c685e1c4-abd1-4ddc-bb18-15c149a91833",
   "metadata": {},
   "source": [
    "### A. Implementing two regression models for the number of storks <a class=\"anchor\" id=\"3a\"></a>"
   ]
  },
  {
   "cell_type": "markdown",
   "id": "4845a6f2-86c8-45fa-a4a4-a0c3b63a9c9b",
   "metadata": {},
   "source": [
    "In the regression below, our y-value is taken as 'Storks' and our x-value (predictor) is taken as 'Area'. A regression is then implemented, giving us the values for the Area regression coefficient, the intercept, and the RMSE."
   ]
  },
  {
   "cell_type": "code",
   "execution_count": 17,
   "id": "3798b5ed-9705-4390-844d-55fc641daf8a",
   "metadata": {},
   "outputs": [
    {
     "name": "stdout",
     "output_type": "stream",
     "text": [
      "The R2 coefficient of determination is 0.336\n",
      "The intercept is -60.7\n",
      "Estimated regression coefficient for Area is 0.02 change of max heart rate (beats / min) per year\n"
     ]
    }
   ],
   "source": [
    "y = storks.Storks\n",
    "x3 = np.array(storks.Area).reshape((-1,1))\n",
    "\n",
    "reg3 = LinearRegression().fit(x3, y)\n",
    "print('The R2 coefficient of determination is %4.3f' % reg3.score(x3, y))\n",
    "print('The intercept is %4.1f' % reg3.intercept_)\n",
    "print('Estimated regression coefficient for Area is %4.2f' % reg3.coef_, \n",
    "      'change of max heart rate (beats / min) per year')"
   ]
  },
  {
   "cell_type": "code",
   "execution_count": 18,
   "id": "ad3c761b-6716-4f19-a3ab-53b966241bdf",
   "metadata": {},
   "outputs": [
    {
     "data": {
      "text/plain": [
       "[<matplotlib.lines.Line2D at 0x21df8f56550>]"
      ]
     },
     "execution_count": 18,
     "metadata": {},
     "output_type": "execute_result"
    },
    {
     "data": {
      "image/png": "[encoded data removed]",
      "text/plain": [
       "<Figure size 720x720 with 1 Axes>"
      ]
     },
     "metadata": {
      "needs_background": "light"
     },
     "output_type": "display_data"
    }
   ],
   "source": [
    "storks.plot(kind='scatter',  x='Area', y='Storks', figsize=(10,10))\n",
    "plt.plot(x3, reg3.intercept_ + reg3.coef_ * x3, c='r')"
   ]
  },
  {
   "cell_type": "markdown",
   "id": "93586716-00e4-46bd-8b06-0070c01386e4",
   "metadata": {},
   "source": [
    "Our second regression model takes the same y-value ('Storks'), but takes 'PopulationDensity' and 'SuitableArea' as its predictors. A regression is then implemented, giving us the values for the regression coefficients, the intercept, and the RMSE."
   ]
  },
  {
   "cell_type": "code",
   "execution_count": 19,
   "id": "dba6f4e2-fcba-4deb-9d02-d237eb2d0808",
   "metadata": {},
   "outputs": [
    {
     "name": "stdout",
     "output_type": "stream",
     "text": [
      "The R2 coefficient of determination is 0.393\n",
      "The intercept is 1881.4\n",
      "Estimated regression coefficient for Population Density is -12.13 change of max heart rate (beats / min) per year\n",
      "Estimated regression coefficient for Suitable Area is 0.04 change of max heart rate (beats / min) per year\n"
     ]
    }
   ],
   "source": [
    "y = storks.Storks\n",
    "x4 = np.array(storks.PopulationDensity).reshape((-1,1))\n",
    "x5 = np.array(storks.SuitableArea).reshape((-1,1))\n",
    "X = np.column_stack((x4, x5))\n",
    "\n",
    "\n",
    "reg4 = LinearRegression().fit(X, y)\n",
    "y_hat = reg4.predict(X)\n",
    "print('The R2 coefficient of determination is %4.3f' % reg4.score(X, y))\n",
    "print('The intercept is %4.1f' % reg4.intercept_)\n",
    "print('Estimated regression coefficient for Population Density is %4.2f' % reg4.coef_[0], \n",
    "      'change of max heart rate (beats / min) per year')\n",
    "print('Estimated regression coefficient for Suitable Area is %4.2f' % reg4.coef_[1], \n",
    "      'change of max heart rate (beats / min) per year')"
   ]
  },
  {
   "cell_type": "code",
   "execution_count": 20,
   "id": "a7eed479-ea14-4f42-ae92-9945056e83c4",
   "metadata": {},
   "outputs": [
    {
     "data": {
      "text/plain": [
       "Text(0, 0.5, 'Actual Value')"
      ]
     },
     "execution_count": 20,
     "metadata": {},
     "output_type": "execute_result"
    },
    {
     "data": {
      "image/png": "[encoded data removed]",
      "text/plain": [
       "<Figure size 720x720 with 1 Axes>"
      ]
     },
     "metadata": {
      "needs_background": "light"
     },
     "output_type": "display_data"
    }
   ],
   "source": [
    "fig, a = plt.subplots(1,1,figsize=(10,10))\n",
    "a.scatter(y_hat, y,  color='blue')\n",
    "a.plot(y_hat, y_hat, color='r', linewidth=3)\n",
    "\n",
    "a.set_xlabel('Predicted Value')\n",
    "a.set_ylabel('Actual Value')"
   ]
  },
  {
   "cell_type": "markdown",
   "id": "f9086711-aeea-42c5-a8f9-42df91f7cda5",
   "metadata": {},
   "source": [
    "### B. Using the bootstrap technique to estimate the difference in the root mean squared error (RMSE) <a class=\"anchor\" id=\"3b\"></a>"
   ]
  },
  {
   "cell_type": "markdown",
   "id": "563b9474-7727-4994-afc5-69214a263201",
   "metadata": {},
   "source": [
    "Here, we implement the bootstrap technique to resample our data and fit the regression model 500 times. We use the same bootstrap function as above, however our regression implementation is slightly different, as outlined in part 3A above."
   ]
  },
  {
   "cell_type": "code",
   "execution_count": 21,
   "id": "fee94ecf-4129-432d-9a91-323f7ceb4e9d",
   "metadata": {},
   "outputs": [],
   "source": [
    "def doRegressions2(df) :\n",
    "    y = df.Storks\n",
    "    x1 = np.array(df.Area).reshape((-1,1))\n",
    "    x2 = np.array(df.PopulationDensity).reshape((-1,1))\n",
    "    x3 = np.array(df.SuitableArea).reshape((-1,1))\n",
    "    X = np.column_stack((x2, x3))\n",
    "    reg1 = LinearRegression().fit(x1, y)\n",
    "    reg2 = LinearRegression().fit(X, y)\n",
    "    y1_pred = reg1.predict(x1)\n",
    "    y2_pred = reg2.predict(X)\n",
    "    RMSE1 = np.sqrt(metrics.mean_squared_error(y, y1_pred))\n",
    "    RMSE2 = np.sqrt(metrics.mean_squared_error(y, y2_pred))\n",
    "    PopulationDensityBeta, SuitableAreaBeta = reg2.coef_\n",
    "    return [reg1.intercept_, reg1.coef_[0], RMSE1,\n",
    "            reg2.intercept_, PopulationDensityBeta, SuitableAreaBeta, RMSE2, RMSE1 - RMSE2]"
   ]
  },
  {
   "cell_type": "code",
   "execution_count": 22,
   "id": "18bed170-61de-40ab-a2b3-4e9e789d62a6",
   "metadata": {},
   "outputs": [
    {
     "data": {
      "image/png": "[encoded data removed]",
      "text/plain": [
       "<Figure size 720x720 with 9 Axes>"
      ]
     },
     "metadata": {
      "needs_background": "light"
     },
     "output_type": "display_data"
    }
   ],
   "source": [
    "bstrap2 = bootstrapC(storks, ['Model1Intercept', 'Model1Beta', 'Model1RMSE', 'Model2Intercept', 'PopulationDensityBeta', 'SuitableAreaBeta', 'Model2RMSE', 'RMSEDifference'], 500, doRegressions2) \n",
    "_ = bstrap2.hist(figsize=(10,10))"
   ]
  },
  {
   "cell_type": "code",
   "execution_count": 23,
   "id": "3c2d58cb-6c02-4fae-81cd-eaaafb52b22b",
   "metadata": {},
   "outputs": [
    {
     "data": {
      "text/html": [
       "<div>\n",
       "<style scoped>\n",
       "    .dataframe tbody tr th:only-of-type {\n",
       "        vertical-align: middle;\n",
       "    }\n",
       "\n",
       "    .dataframe tbody tr th {\n",
       "        vertical-align: top;\n",
       "    }\n",
       "\n",
       "    .dataframe thead th {\n",
       "        text-align: right;\n",
       "    }\n",
       "</style>\n",
       "<table border=\"1\" class=\"dataframe\">\n",
       "  <thead>\n",
       "    <tr style=\"text-align: right;\">\n",
       "      <th></th>\n",
       "      <th>Model1Intercept</th>\n",
       "      <th>Model1Beta</th>\n",
       "      <th>Model1RMSE</th>\n",
       "      <th>Model2Intercept</th>\n",
       "      <th>PopulationDensityBeta</th>\n",
       "      <th>SuitableAreaBeta</th>\n",
       "      <th>Model2RMSE</th>\n",
       "      <th>RMSEDifference</th>\n",
       "    </tr>\n",
       "  </thead>\n",
       "  <tbody>\n",
       "    <tr>\n",
       "      <th>0</th>\n",
       "      <td>569.455889</td>\n",
       "      <td>0.038361</td>\n",
       "      <td>10891.153650</td>\n",
       "      <td>2787.409075</td>\n",
       "      <td>-17.880353</td>\n",
       "      <td>0.067156</td>\n",
       "      <td>10370.409534</td>\n",
       "      <td>520.744116</td>\n",
       "    </tr>\n",
       "    <tr>\n",
       "      <th>1</th>\n",
       "      <td>1384.349648</td>\n",
       "      <td>0.016879</td>\n",
       "      <td>6470.852950</td>\n",
       "      <td>2853.650808</td>\n",
       "      <td>-11.595997</td>\n",
       "      <td>0.029560</td>\n",
       "      <td>6297.918482</td>\n",
       "      <td>172.934467</td>\n",
       "    </tr>\n",
       "    <tr>\n",
       "      <th>2</th>\n",
       "      <td>-104.231093</td>\n",
       "      <td>0.022574</td>\n",
       "      <td>6143.798497</td>\n",
       "      <td>2495.228946</td>\n",
       "      <td>-20.206038</td>\n",
       "      <td>0.039614</td>\n",
       "      <td>5886.775240</td>\n",
       "      <td>257.023257</td>\n",
       "    </tr>\n",
       "    <tr>\n",
       "      <th>3</th>\n",
       "      <td>57.525386</td>\n",
       "      <td>0.026546</td>\n",
       "      <td>6215.346471</td>\n",
       "      <td>2450.026671</td>\n",
       "      <td>-15.629829</td>\n",
       "      <td>0.041183</td>\n",
       "      <td>5879.675174</td>\n",
       "      <td>335.671297</td>\n",
       "    </tr>\n",
       "    <tr>\n",
       "      <th>4</th>\n",
       "      <td>-1518.364194</td>\n",
       "      <td>0.030732</td>\n",
       "      <td>6253.431124</td>\n",
       "      <td>2135.491246</td>\n",
       "      <td>-27.626248</td>\n",
       "      <td>0.046330</td>\n",
       "      <td>5923.664775</td>\n",
       "      <td>329.766349</td>\n",
       "    </tr>\n",
       "    <tr>\n",
       "      <th>...</th>\n",
       "      <td>...</td>\n",
       "      <td>...</td>\n",
       "      <td>...</td>\n",
       "      <td>...</td>\n",
       "      <td>...</td>\n",
       "      <td>...</td>\n",
       "      <td>...</td>\n",
       "      <td>...</td>\n",
       "    </tr>\n",
       "    <tr>\n",
       "      <th>495</th>\n",
       "      <td>-380.015388</td>\n",
       "      <td>0.032789</td>\n",
       "      <td>7802.459455</td>\n",
       "      <td>2321.847061</td>\n",
       "      <td>-11.992183</td>\n",
       "      <td>0.047912</td>\n",
       "      <td>7553.989419</td>\n",
       "      <td>248.470036</td>\n",
       "    </tr>\n",
       "    <tr>\n",
       "      <th>496</th>\n",
       "      <td>456.087632</td>\n",
       "      <td>0.008252</td>\n",
       "      <td>2462.790135</td>\n",
       "      <td>1998.171963</td>\n",
       "      <td>-10.000205</td>\n",
       "      <td>0.012950</td>\n",
       "      <td>2299.007974</td>\n",
       "      <td>163.782160</td>\n",
       "    </tr>\n",
       "    <tr>\n",
       "      <th>497</th>\n",
       "      <td>314.826212</td>\n",
       "      <td>0.028878</td>\n",
       "      <td>8558.889750</td>\n",
       "      <td>3052.874970</td>\n",
       "      <td>-19.179638</td>\n",
       "      <td>0.046367</td>\n",
       "      <td>8202.490887</td>\n",
       "      <td>356.398863</td>\n",
       "    </tr>\n",
       "    <tr>\n",
       "      <th>498</th>\n",
       "      <td>-342.825498</td>\n",
       "      <td>0.020370</td>\n",
       "      <td>7503.695929</td>\n",
       "      <td>1373.347787</td>\n",
       "      <td>-9.534074</td>\n",
       "      <td>0.032133</td>\n",
       "      <td>7231.496970</td>\n",
       "      <td>272.198959</td>\n",
       "    </tr>\n",
       "    <tr>\n",
       "      <th>499</th>\n",
       "      <td>549.449413</td>\n",
       "      <td>0.012454</td>\n",
       "      <td>1932.874267</td>\n",
       "      <td>2901.722903</td>\n",
       "      <td>-14.013890</td>\n",
       "      <td>0.018337</td>\n",
       "      <td>1564.391444</td>\n",
       "      <td>368.482824</td>\n",
       "    </tr>\n",
       "  </tbody>\n",
       "</table>\n",
       "<p>500 rows × 8 columns</p>\n",
       "</div>"
      ],
      "text/plain": [
       "     Model1Intercept  Model1Beta    Model1RMSE  Model2Intercept  \\\n",
       "0         569.455889    0.038361  10891.153650      2787.409075   \n",
       "1        1384.349648    0.016879   6470.852950      2853.650808   \n",
       "2        -104.231093    0.022574   6143.798497      2495.228946   \n",
       "3          57.525386    0.026546   6215.346471      2450.026671   \n",
       "4       -1518.364194    0.030732   6253.431124      2135.491246   \n",
       "..               ...         ...           ...              ...   \n",
       "495      -380.015388    0.032789   7802.459455      2321.847061   \n",
       "496       456.087632    0.008252   2462.790135      1998.171963   \n",
       "497       314.826212    0.028878   8558.889750      3052.874970   \n",
       "498      -342.825498    0.020370   7503.695929      1373.347787   \n",
       "499       549.449413    0.012454   1932.874267      2901.722903   \n",
       "\n",
       "     PopulationDensityBeta  SuitableAreaBeta    Model2RMSE  RMSEDifference  \n",
       "0               -17.880353          0.067156  10370.409534      520.744116  \n",
       "1               -11.595997          0.029560   6297.918482      172.934467  \n",
       "2               -20.206038          0.039614   5886.775240      257.023257  \n",
       "3               -15.629829          0.041183   5879.675174      335.671297  \n",
       "4               -27.626248          0.046330   5923.664775      329.766349  \n",
       "..                     ...               ...           ...             ...  \n",
       "495             -11.992183          0.047912   7553.989419      248.470036  \n",
       "496             -10.000205          0.012950   2299.007974      163.782160  \n",
       "497             -19.179638          0.046367   8202.490887      356.398863  \n",
       "498              -9.534074          0.032133   7231.496970      272.198959  \n",
       "499             -14.013890          0.018337   1564.391444      368.482824  \n",
       "\n",
       "[500 rows x 8 columns]"
      ]
     },
     "execution_count": 23,
     "metadata": {},
     "output_type": "execute_result"
    }
   ],
   "source": [
    "bstrap2"
   ]
  },
  {
   "cell_type": "code",
   "execution_count": 24,
   "id": "6c2e3d3e-0ed1-4d1f-8792-f613323a057c",
   "metadata": {},
   "outputs": [
    {
     "data": {
      "text/plain": [
       "<matplotlib.lines.Line2D at 0x21df9592cd0>"
      ]
     },
     "execution_count": 24,
     "metadata": {},
     "output_type": "execute_result"
    },
    {
     "data": {
      "image/png": "[encoded data removed]",
      "text/plain": [
       "<Figure size 720x720 with 1 Axes>"
      ]
     },
     "metadata": {
      "needs_background": "light"
     },
     "output_type": "display_data"
    }
   ],
   "source": [
    "bstrap2.hist('RMSEDifference', bins=20, figsize=(10,10))\n",
    "plt.axvline(bstrap2.RMSEDifference.quantile(0.025), color='r', linestyle='dashed', linewidth=2)\n",
    "plt.axvline(bstrap2.RMSEDifference.quantile(0.975), color='r', linestyle='dashed', linewidth=2)"
   ]
  },
  {
   "cell_type": "code",
   "execution_count": 25,
   "id": "9ad31faf-fce2-497b-8e99-236ab16c3470",
   "metadata": {},
   "outputs": [
    {
     "name": "stdout",
     "output_type": "stream",
     "text": [
      "The RMSE difference is 307.74, with 90% CI from 61.72 to 738.04\n"
     ]
    }
   ],
   "source": [
    "intercept_1, beta_, rmse_1, intercept_2, beta_1, beta_2, rmse_1, rmsedifference = doRegressions2(storks)\n",
    "\n",
    "print(\"The RMSE difference is %3.2f, with 90%% CI from %3.2f to %3.2f\" % \n",
    "      (rmsedifference, bstrap2.RMSEDifference.quantile(0.025), bstrap2.RMSEDifference.quantile(0.975)))"
   ]
  },
  {
   "cell_type": "markdown",
   "id": "c88e6fcf-d496-4c65-8710-cc720bae9dce",
   "metadata": {},
   "source": [
    "### C. Conclusions <a class=\"anchor\" id=\"3c\"></a>"
   ]
  },
  {
   "cell_type": "markdown",
   "id": "b0571ebf-3556-4f58-ab81-7031643a76fd",
   "metadata": {},
   "source": [
    "Here, we can clearly see that to a higher confidence than in our first analysis (95% confidence interval) we can be confident that the first model (land area predictor) predicts the number of storks better than the second as the zero line isn't within the confidence interval."
   ]
  }
 ],
 "metadata": {
  "kernelspec": {
   "display_name": "Python 3 (ipykernel)",
   "language": "python",
   "name": "python3"
  },
  "language_info": {
   "codemirror_mode": {
    "name": "ipython",
    "version": 3
   },
   "file_extension": ".py",
   "mimetype": "text/x-python",
   "name": "python",
   "nbconvert_exporter": "python",
   "pygments_lexer": "ipython3",
   "version": "3.9.7"
  }
 },
 "nbformat": 4,
 "nbformat_minor": 5
}
